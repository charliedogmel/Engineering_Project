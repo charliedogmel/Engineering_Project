{
 "cells": [
  {
   "cell_type": "code",
   "execution_count": 75,
   "id": "c6f58584",
   "metadata": {},
   "outputs": [],
   "source": [
    "import os, zipfile\n",
    "from os import path\n",
    "import requests\n",
    "from requests.auth import HTTPBasicAuth\n",
    "import subprocess\n",
    "import datetime as dt\n",
    "from datetime import datetime, date, timedelta\n",
    "from pymongo import MongoClient"
   ]
  },
  {
   "cell_type": "code",
   "execution_count": null,
   "id": "ae85de6e",
   "metadata": {},
   "outputs": [],
   "source": [
    "# this doesn't work and I don't know if I need it\n",
    "# subprocess.Popen(['//usr//bin//mongod', '--dbpath',  '~//Metis//NBM_Engineering_Student//my_project//datadb'])"
   ]
  },
  {
   "cell_type": "code",
   "execution_count": null,
   "id": "b2d016ae",
   "metadata": {},
   "outputs": [],
   "source": [
    "# from urllib.parse import quote_plus\n",
    "\n",
    "# uri = \"mongodb://%s:%s@%s\" % (\n",
    "#     quote_plus(user), quote_plus(password), host)\n",
    "# client = MongoClient(uri)"
   ]
  },
  {
   "cell_type": "code",
   "execution_count": 2,
   "id": "bb87f83e",
   "metadata": {},
   "outputs": [],
   "source": [
    "# create a new client instance\n",
    "mongo_client = MongoClient()"
   ]
  },
  {
   "cell_type": "code",
   "execution_count": 3,
   "id": "7ba23260",
   "metadata": {},
   "outputs": [
    {
     "data": {
      "text/plain": [
       "Database(MongoClient(host=['localhost:27017'], document_class=dict, tz_aware=False, connect=True), 'test_database')"
      ]
     },
     "execution_count": 3,
     "metadata": {},
     "output_type": "execute_result"
    }
   ],
   "source": [
    "mongo_client.test_database"
   ]
  },
  {
   "cell_type": "code",
   "execution_count": 99,
   "id": "a5efc62f",
   "metadata": {},
   "outputs": [],
   "source": [
    "# account details\n",
    "USERNAME = 'melissa'\n",
    "PASSWORD = 'WattTime4Metis'\n",
    "EMAIL = 'melissa@doloresparkpiano.com'\n",
    "ORG = 'StudentsInc'\n",
    "\n",
    "# request details\n",
    "BA = 'CAISO_NORTH'  # identify grid region\n",
    "\n",
    "# starttime and endtime are optional, if ommited will return the latest value\n",
    "START = '2021-09-08T19:00:00-0000'  # UTC offset of 0 (PDT is -7, PST -8)\n",
    "END = '2021-09-08T19:45:00-0000'\n",
    "\n",
    "\n",
    "def register(username, password, email, org):\n",
    "    url = 'https://api2.watttime.org/register'\n",
    "    params = {'username': username,\n",
    "              'password': password,\n",
    "              'email': email,\n",
    "              'org': org}\n",
    "    rsp = requests.post(url, json=params)\n",
    "    print(rsp.text)\n",
    "\n",
    "\n",
    "def login(username, password):\n",
    "    url = 'https://api2.watttime.org/login'\n",
    "    try:\n",
    "        rsp = requests.get(url, auth=HTTPBasicAuth(username, password))\n",
    "    except BaseException as e:\n",
    "        print('There was an error making your login request: {}'.format(e))\n",
    "        return None\n",
    "\n",
    "    try:\n",
    "        token = rsp.json()['token']\n",
    "    except BaseException:\n",
    "        print('There was an error logging in. The message returned from the '\n",
    "              'api is {}'.format(rsp.text))\n",
    "        return None\n",
    "\n",
    "    return token\n",
    "\n",
    "\n",
    "def create_token(USERNAME, PASSWORD):\n",
    "    token = login(USERNAME, PASSWORD)\n",
    "    if not token:\n",
    "        print('You will need to fix your login credentials (username and password '\n",
    "              'at the start of this file) before you can query other endpoints. '\n",
    "              'Make sure that you have registered at least once by uncommenting '\n",
    "              'the register(username, password, email, org) line near the bottom '\n",
    "              'of this file.')\n",
    "        exit()\n",
    "    return token\n",
    "\n",
    "\n",
    "def data(token, ba, starttime, endtime):\n",
    "    url = 'https://api2.watttime.org/data'\n",
    "    headers = {'Authorization': 'Bearer {}'.format(token)}\n",
    "    params = {'ba': ba, 'starttime': starttime, 'endtime': endtime}\n",
    "\n",
    "    rsp = requests.get(url, headers=headers, params=params)\n",
    "    # print(rsp.text)  # uncomment to see raw response\n",
    "    return rsp.json()\n",
    "\n",
    "\n",
    "def index(token, ba):\n",
    "    url = 'https://api2.watttime.org/index'\n",
    "    headers = {'Authorization': 'Bearer {}'.format(token)}\n",
    "    params = {'ba': ba}\n",
    "\n",
    "    rsp = requests.get(url, headers=headers, params=params)\n",
    "    # print(rsp.text)  # uncomment to see raw response\n",
    "    return rsp.json()\n",
    "\n",
    "\n",
    "def forecast(token, ba, starttime=None, endtime=None):\n",
    "    url = 'https://api2.watttime.org/forecast'\n",
    "    headers = {'Authorization': 'Bearer {}'.format(token)}\n",
    "    params = {'ba': ba}\n",
    "    if starttime:\n",
    "        params.update({'starttime': starttime, 'endtime': endtime})\n",
    "\n",
    "    rsp = requests.get(url, headers=headers, params=params)\n",
    "    # print(rsp.text)  # uncomment to see raw response\n",
    "    return rsp.json()\n",
    "\n",
    "\n",
    "def historical(token, ba):\n",
    "    url = 'https://api2.watttime.org/historical'\n",
    "    headers = {'Authorization': 'Bearer {}'.format(token)}\n",
    "    params = {'ba': ba}\n",
    "    rsp = requests.get(url, headers=headers, params=params)\n",
    "    cur_dir = path.dirname(path.realpath('my_project'))\n",
    "    file_dir = path.join(cur_dir, '{}_historical'.format(ba))\n",
    "    file_name = '{}_historical.zip'.format(ba)\n",
    "    file_path = path.join(file_dir, file_name)\n",
    "    with open(file_path, 'wb') as fp:\n",
    "        fp.write(rsp.content)\n",
    "\n",
    "    print('Wrote historical data for {} to {}'.format(ba, file_path))\n",
    "    return file_dir, file_path"
   ]
  },
  {
   "cell_type": "code",
   "execution_count": 82,
   "id": "a50d1596",
   "metadata": {},
   "outputs": [],
   "source": [
    "# Only register once!!\n",
    "# register(USERNAME, PASSWORD, EMAIL, ORG)"
   ]
  },
  {
   "cell_type": "code",
   "execution_count": 188,
   "id": "4189cccd",
   "metadata": {},
   "outputs": [
    {
     "data": {
      "text/plain": [
       "['CAISO_NORTH']"
      ]
     },
     "execution_count": 188,
     "metadata": {},
     "output_type": "execute_result"
    }
   ],
   "source": [
    "mongo_client.watt_time.list_collection_names()"
   ]
  },
  {
   "cell_type": "code",
   "execution_count": 189,
   "id": "aca63fcf",
   "metadata": {},
   "outputs": [],
   "source": [
    "# use this for collection reset/rerun experiments\n",
    "# mongo_client.watt_time[BA].drop()"
   ]
  },
  {
   "cell_type": "code",
   "execution_count": 186,
   "id": "cf6e73de",
   "metadata": {},
   "outputs": [
    {
     "name": "stdout",
     "output_type": "stream",
     "text": [
      "['admin', 'books', 'config', 'events', 'local', 'outings', 'watt_time']\n",
      "['CAISO_NORTH']\n"
     ]
    }
   ],
   "source": [
    "db_names = mongo_client.list_database_names()\n",
    "print(db_names)\n",
    "coll_names = mongo_client.watt_time.list_collection_names()\n",
    "print(coll_names)"
   ]
  },
  {
   "cell_type": "code",
   "execution_count": 187,
   "id": "34f7cd4e",
   "metadata": {},
   "outputs": [
    {
     "data": {
      "text/plain": [
       "False"
      ]
     },
     "execution_count": 187,
     "metadata": {},
     "output_type": "execute_result"
    }
   ],
   "source": [
    "BA not in coll_names"
   ]
  },
  {
   "cell_type": "code",
   "execution_count": 157,
   "id": "ec109701",
   "metadata": {},
   "outputs": [
    {
     "name": "stdout",
     "output_type": "stream",
     "text": [
      "Wrote historical data for CAISO_NORTH to /home/melissa/Metis/NBM_Engineering_Student/my_project/CAISO_NORTH_historical/CAISO_NORTH_historical.zip\n",
      "/home/melissa/Metis/NBM_Engineering_Student/my_project/CAISO_NORTH_historical/CAISO_NORTH_2020-08_MOER.csv\n",
      "/home/melissa/Metis/NBM_Engineering_Student/my_project/CAISO_NORTH_historical/CAISO_NORTH_2018-07_MOER.csv\n",
      "/home/melissa/Metis/NBM_Engineering_Student/my_project/CAISO_NORTH_historical/CAISO_NORTH_2018-10_MOER.csv\n",
      "/home/melissa/Metis/NBM_Engineering_Student/my_project/CAISO_NORTH_historical/CAISO_NORTH_2020-10_MOER.csv\n",
      "/home/melissa/Metis/NBM_Engineering_Student/my_project/CAISO_NORTH_historical/CAISO_NORTH_2021-04_MOER.csv\n",
      "/home/melissa/Metis/NBM_Engineering_Student/my_project/CAISO_NORTH_historical/CAISO_NORTH_2018-06_MOER.csv\n",
      "/home/melissa/Metis/NBM_Engineering_Student/my_project/CAISO_NORTH_historical/CAISO_NORTH_2021-08_MOER.csv\n",
      "/home/melissa/Metis/NBM_Engineering_Student/my_project/CAISO_NORTH_historical/CAISO_NORTH_2018-04_MOER.csv\n",
      "/home/melissa/Metis/NBM_Engineering_Student/my_project/CAISO_NORTH_historical/CAISO_NORTH_2020-11_MOER.csv\n",
      "/home/melissa/Metis/NBM_Engineering_Student/my_project/CAISO_NORTH_historical/CAISO_NORTH_2019-11_MOER.csv\n",
      "/home/melissa/Metis/NBM_Engineering_Student/my_project/CAISO_NORTH_historical/CAISO_NORTH_2019-12_MOER.csv\n",
      "/home/melissa/Metis/NBM_Engineering_Student/my_project/CAISO_NORTH_historical/CAISO_NORTH_2021-03_MOER.csv\n",
      "/home/melissa/Metis/NBM_Engineering_Student/my_project/CAISO_NORTH_historical/CAISO_NORTH_2019-04_MOER.csv\n",
      "/home/melissa/Metis/NBM_Engineering_Student/my_project/CAISO_NORTH_historical/CAISO_NORTH_2019-05_MOER.csv\n"
     ]
    },
    {
     "name": "stderr",
     "output_type": "stream",
     "text": [
      "2021-09-12T17:03:31.193-0700\tconnected to: localhost\n",
      "2021-09-12T17:03:31.201-0700\tconnected to: localhost\n",
      "2021-09-12T17:03:31.204-0700\tconnected to: localhost\n",
      "2021-09-12T17:03:31.212-0700\tconnected to: localhost\n",
      "2021-09-12T17:03:31.227-0700\tconnected to: localhost\n",
      "2021-09-12T17:03:31.240-0700\tconnected to: localhost\n",
      "2021-09-12T17:03:31.243-0700\tconnected to: localhost\n",
      "2021-09-12T17:03:31.256-0700\tconnected to: localhost\n",
      "2021-09-12T17:03:31.293-0700\tconnected to: localhost\n",
      "2021-09-12T17:03:31.300-0700\timported 8928 documents\n",
      "2021-09-12T17:03:31.300-0700\tconnected to: localhost\n",
      "2021-09-12T17:03:31.301-0700\tconnected to: localhost\n",
      "2021-09-12T17:03:31.319-0700\timported 8928 documents\n",
      "2021-09-12T17:03:31.332-0700\timported 8928 documents\n",
      "2021-09-12T17:03:31.339-0700\tconnected to: localhost\n",
      "2021-09-12T17:03:31.355-0700\timported 8640 documents\n",
      "2021-09-12T17:03:31.361-0700\tconnected to: localhost\n",
      "2021-09-12T17:03:31.366-0700\tconnected to: localhost\n",
      "2021-09-12T17:03:31.367-0700\timported 8928 documents\n",
      "2021-09-12T17:03:31.368-0700\timported 4905 documents\n",
      "2021-09-12T17:03:31.368-0700\tconnected to: localhost\n",
      "2021-09-12T17:03:31.389-0700\tconnected to: localhost\n"
     ]
    },
    {
     "name": "stdout",
     "output_type": "stream",
     "text": [
      "/home/melissa/Metis/NBM_Engineering_Student/my_project/CAISO_NORTH_historical/CAISO_NORTH_2020-01_MOER.csv\n",
      "/home/melissa/Metis/NBM_Engineering_Student/my_project/CAISO_NORTH_historical/CAISO_NORTH_2021-01_MOER.csv\n",
      "/home/melissa/Metis/NBM_Engineering_Student/my_project/CAISO_NORTH_historical/CAISO_NORTH_2021-02_MOER.csv\n",
      "/home/melissa/Metis/NBM_Engineering_Student/my_project/CAISO_NORTH_historical/CAISO_NORTH_2019-07_MOER.csv\n",
      "/home/melissa/Metis/NBM_Engineering_Student/my_project/CAISO_NORTH_historical/CAISO_NORTH_2018-09_MOER.csv\n",
      "/home/melissa/Metis/NBM_Engineering_Student/my_project/CAISO_NORTH_historical/CAISO_NORTH_2021-06_MOER.csv\n",
      "/home/melissa/Metis/NBM_Engineering_Student/my_project/CAISO_NORTH_historical/CAISO_NORTH_2021-07_MOER.csv\n",
      "/home/melissa/Metis/NBM_Engineering_Student/my_project/CAISO_NORTH_historical/CAISO_NORTH_2019-06_MOER.csv\n",
      "/home/melissa/Metis/NBM_Engineering_Student/my_project/CAISO_NORTH_historical/CAISO_NORTH_2019-02_MOER.csv\n",
      "/home/melissa/Metis/NBM_Engineering_Student/my_project/CAISO_NORTH_historical/CAISO_NORTH_2018-12_MOER.csv\n",
      "/home/melissa/Metis/NBM_Engineering_Student/my_project/CAISO_NORTH_historical/CAISO_NORTH_2020-07_MOER.csv\n"
     ]
    },
    {
     "name": "stderr",
     "output_type": "stream",
     "text": [
      "2021-09-12T17:03:31.426-0700\timported 8640 documents\n",
      "2021-09-12T17:03:31.433-0700\timported 8640 documents\n",
      "2021-09-12T17:03:31.456-0700\tconnected to: localhost\n",
      "2021-09-12T17:03:31.459-0700\tconnected to: localhost\n",
      "2021-09-12T17:03:31.468-0700\timported 8640 documents\n",
      "2021-09-12T17:03:31.469-0700\tconnected to: localhost\n",
      "2021-09-12T17:03:31.497-0700\timported 8928 documents\n",
      "2021-09-12T17:03:31.507-0700\timported 8640 documents\n",
      "2021-09-12T17:03:31.508-0700\tconnected to: localhost\n",
      "2021-09-12T17:03:31.523-0700\tconnected to: localhost\n",
      "2021-09-12T17:03:31.527-0700\timported 8928 documents\n",
      "2021-09-12T17:03:31.531-0700\timported 8928 documents\n",
      "2021-09-12T17:03:31.535-0700\tconnected to: localhost\n",
      "2021-09-12T17:03:31.535-0700\timported 8640 documents\n",
      "2021-09-12T17:03:31.543-0700\timported 8928 documents\n",
      "2021-09-12T17:03:31.546-0700\timported 8928 documents\n",
      "2021-09-12T17:03:31.565-0700\tconnected to: localhost\n",
      "2021-09-12T17:03:31.569-0700\tconnected to: localhost\n",
      "2021-09-12T17:03:31.569-0700\tconnected to: localhost\n",
      "2021-09-12T17:03:31.591-0700\tconnected to: localhost\n",
      "2021-09-12T17:03:31.594-0700\tconnected to: localhost\n",
      "2021-09-12T17:03:31.618-0700\timported 8064 documents\n"
     ]
    },
    {
     "name": "stdout",
     "output_type": "stream",
     "text": [
      "/home/melissa/Metis/NBM_Engineering_Student/my_project/CAISO_NORTH_historical/CAISO_NORTH_2019-01_MOER.csv\n",
      "/home/melissa/Metis/NBM_Engineering_Student/my_project/CAISO_NORTH_historical/CAISO_NORTH_2020-09_MOER.csv\n",
      "/home/melissa/Metis/NBM_Engineering_Student/my_project/CAISO_NORTH_historical/CAISO_NORTH_2019-10_MOER.csv\n",
      "/home/melissa/Metis/NBM_Engineering_Student/my_project/CAISO_NORTH_historical/CAISO_NORTH_2021-05_MOER.csv\n",
      "/home/melissa/Metis/NBM_Engineering_Student/my_project/CAISO_NORTH_historical/CAISO_NORTH_2018-03_MOER.csv\n",
      "/home/melissa/Metis/NBM_Engineering_Student/my_project/CAISO_NORTH_historical/CAISO_NORTH_2020-05_MOER.csv\n",
      "/home/melissa/Metis/NBM_Engineering_Student/my_project/CAISO_NORTH_historical/CAISO_NORTH_2020-12_MOER.csv\n",
      "/home/melissa/Metis/NBM_Engineering_Student/my_project/CAISO_NORTH_historical/CAISO_NORTH_2020-06_MOER.csv\n",
      "/home/melissa/Metis/NBM_Engineering_Student/my_project/CAISO_NORTH_historical/CAISO_NORTH_2018-01_MOER.csv\n",
      "/home/melissa/Metis/NBM_Engineering_Student/my_project/CAISO_NORTH_historical/CAISO_NORTH_2020-02_MOER.csv\n"
     ]
    },
    {
     "name": "stderr",
     "output_type": "stream",
     "text": [
      "2021-09-12T17:03:31.644-0700\timported 8640 documents\n",
      "2021-09-12T17:03:31.652-0700\tconnected to: localhost\n",
      "2021-09-12T17:03:31.665-0700\timported 8064 documents\n",
      "2021-09-12T17:03:31.665-0700\timported 8640 documents\n",
      "2021-09-12T17:03:31.681-0700\timported 8928 documents\n",
      "2021-09-12T17:03:31.685-0700\tconnected to: localhost\n",
      "2021-09-12T17:03:31.705-0700\timported 8928 documents\n",
      "2021-09-12T17:03:31.708-0700\tconnected to: localhost\n",
      "2021-09-12T17:03:31.721-0700\tconnected to: localhost\n",
      "2021-09-12T17:03:31.728-0700\timported 8640 documents\n",
      "2021-09-12T17:03:31.743-0700\tconnected to: localhost\n",
      "2021-09-12T17:03:31.756-0700\timported 8928 documents\n",
      "2021-09-12T17:03:31.759-0700\timported 8928 documents\n",
      "2021-09-12T17:03:31.762-0700\timported 8928 documents\n",
      "2021-09-12T17:03:31.765-0700\timported 8640 documents\n",
      "2021-09-12T17:03:31.798-0700\tconnected to: localhost\n",
      "2021-09-12T17:03:31.804-0700\timported 8928 documents\n",
      "2021-09-12T17:03:31.804-0700\tconnected to: localhost\n",
      "2021-09-12T17:03:31.805-0700\tconnected to: localhost\n",
      "2021-09-12T17:03:31.805-0700\tconnected to: localhost\n",
      "2021-09-12T17:03:31.819-0700\tconnected to: localhost\n"
     ]
    },
    {
     "name": "stdout",
     "output_type": "stream",
     "text": [
      "/home/melissa/Metis/NBM_Engineering_Student/my_project/CAISO_NORTH_historical/CAISO_NORTH_2019-03_MOER.csv\n",
      "/home/melissa/Metis/NBM_Engineering_Student/my_project/CAISO_NORTH_historical/CAISO_NORTH_2018-08_MOER.csv\n",
      "/home/melissa/Metis/NBM_Engineering_Student/my_project/CAISO_NORTH_historical/CAISO_NORTH_2018-05_MOER.csv\n",
      "/home/melissa/Metis/NBM_Engineering_Student/my_project/CAISO_NORTH_historical/CAISO_NORTH_2018-02_MOER.csv\n",
      "/home/melissa/Metis/NBM_Engineering_Student/my_project/CAISO_NORTH_historical/CAISO_NORTH_2019-09_MOER.csv\n",
      "/home/melissa/Metis/NBM_Engineering_Student/my_project/CAISO_NORTH_historical/CAISO_NORTH_2018-11_MOER.csv\n",
      "/home/melissa/Metis/NBM_Engineering_Student/my_project/CAISO_NORTH_historical/CAISO_NORTH_2020-03_MOER.csv\n",
      "/home/melissa/Metis/NBM_Engineering_Student/my_project/CAISO_NORTH_historical/CAISO_NORTH_2019-08_MOER.csv\n",
      "/home/melissa/Metis/NBM_Engineering_Student/my_project/CAISO_NORTH_historical/CAISO_NORTH_2020-04_MOER.csv\n"
     ]
    },
    {
     "name": "stderr",
     "output_type": "stream",
     "text": [
      "2021-09-12T17:03:31.850-0700\timported 8928 documents\n",
      "2021-09-12T17:03:31.870-0700\tconnected to: localhost\n",
      "2021-09-12T17:03:31.873-0700\tconnected to: localhost\n",
      "2021-09-12T17:03:31.880-0700\timported 8928 documents\n",
      "2021-09-12T17:03:31.886-0700\timported 8928 documents\n",
      "2021-09-12T17:03:31.902-0700\timported 8928 documents\n",
      "2021-09-12T17:03:31.907-0700\tconnected to: localhost\n",
      "2021-09-12T17:03:31.922-0700\timported 8352 documents\n",
      "2021-09-12T17:03:31.936-0700\tconnected to: localhost\n",
      "2021-09-12T17:03:31.937-0700\tconnected to: localhost\n",
      "2021-09-12T17:03:31.957-0700\timported 8640 documents\n",
      "2021-09-12T17:03:31.957-0700\tconnected to: localhost\n",
      "2021-09-12T17:03:31.978-0700\timported 8928 documents\n",
      "2021-09-12T17:03:31.985-0700\timported 8928 documents\n",
      "2021-09-12T17:03:31.986-0700\tconnected to: localhost\n",
      "2021-09-12T17:03:32.019-0700\timported 8928 documents\n",
      "2021-09-12T17:03:32.043-0700\timported 8064 documents\n",
      "2021-09-12T17:03:32.052-0700\timported 8640 documents\n",
      "2021-09-12T17:03:32.066-0700\timported 8928 documents\n",
      "2021-09-12T17:03:32.079-0700\timported 8928 documents\n",
      "2021-09-12T17:03:32.080-0700\timported 8640 documents\n",
      "2021-09-12T17:03:32.085-0700\timported 8928 documents\n",
      "2021-09-12T17:03:32.092-0700\timported 8640 documents\n"
     ]
    }
   ],
   "source": [
    "if BA not in db_names:\n",
    "    token = create_token(USERNAME, PASSWORD)\n",
    "    file_dir, file_path = historical(token, BA)\n",
    "    \n",
    "    # extract csv files from historical zip file\n",
    "    zip_ref = zipfile.ZipFile(file_path)\n",
    "    zip_ref.extractall(file_dir)\n",
    "    zip_ref.close()\n",
    "    os.remove(file_path)\n",
    "    \n",
    "    # create a new collection and insert data\n",
    "    db = mongo_client.watt_time\n",
    "    new_coll = db[BA]\n",
    "    \n",
    "    # directory of files\n",
    "    dir_files = file_dir\n",
    "    # create list of all files\n",
    "    _, _, file_names = next(os.walk(file_dir))\n",
    "    files = [os.path.join(file_dir, fn) for fn in file_names]\n",
    "    # mongotool address\n",
    "    mongotool = r'/usr/bin/mongoimport'\n",
    "    # import all files to mongodb\n",
    "    for file in files:\n",
    "        print(file)\n",
    "        commands = [mongotool, '--db', 'watt_time',\n",
    "                    '--collection', BA,\n",
    "                    '--file', file,\n",
    "                    '--type', 'csv',\n",
    "                    '--headerline']\n",
    "        commands = ' '.join(commands)\n",
    "        subprocess.Popen(commands, shell=True)\n",
    "    \n",
    "    # check most recent date\n",
    "    cursor = new_coll.find().sort('timestamp', -1).limit(1)\n",
    "    latest_date = list(cursor)[0]['timestamp']\n",
    "    print(latest_date)\n",
    "\n",
    "    # the historical zip timestamp & MOER are renamed in subsequent API calls\n",
    "    new_coll.update_many({}, {'$rename': {\"timestamp\": \"point_time\", \"MOER\": \"value\"}}, False, array_filters=None)\n",
    "    \n",
    "    # same check plus check rename\n",
    "    cursor = new_coll.find().sort('point_time', -1).limit(1)\n",
    "    latest_date = list(cursor)[0]['point_time']\n",
    "    print(latest_date)\n",
    "    \n",
    "\n",
    "    "
   ]
  },
  {
   "cell_type": "code",
   "execution_count": 158,
   "id": "e0c0e11e",
   "metadata": {},
   "outputs": [
    {
     "data": {
      "text/plain": [
       "381609"
      ]
     },
     "execution_count": 158,
     "metadata": {},
     "output_type": "execute_result"
    }
   ],
   "source": [
    "new_coll.count_documents({})"
   ]
  },
  {
   "cell_type": "code",
   "execution_count": 167,
   "id": "20a8d608",
   "metadata": {},
   "outputs": [
    {
     "data": {
      "text/plain": [
       "'2021-08-18T00:40:00+00:00'"
      ]
     },
     "execution_count": 167,
     "metadata": {},
     "output_type": "execute_result"
    }
   ],
   "source": [
    "# cursor = new_coll.find().sort('timestamp', -1).limit(1)\n",
    "# latest_date = list(cursor)[0]['timestamp']\n",
    "# latest_date"
   ]
  },
  {
   "cell_type": "code",
   "execution_count": 178,
   "id": "2a245c9c",
   "metadata": {},
   "outputs": [
    {
     "data": {
      "text/plain": [
       "<pymongo.results.UpdateResult at 0x7f1b6e9edd80>"
      ]
     },
     "execution_count": 178,
     "metadata": {},
     "output_type": "execute_result"
    }
   ],
   "source": [
    "# this needs to be done on the data that was unzipped in the if statement\n",
    "# new_coll.update_many({}, {'$rename': {\"timestamp\": \"point_time\", \"MOER\": \"value\"}}, False, array_filters=None)"
   ]
  },
  {
   "cell_type": "code",
   "execution_count": 179,
   "id": "6ec51ac0",
   "metadata": {},
   "outputs": [
    {
     "data": {
      "text/plain": [
       "'2021-08-18T00:40:00+00:00'"
      ]
     },
     "execution_count": 179,
     "metadata": {},
     "output_type": "execute_result"
    }
   ],
   "source": [
    "# cursor = new_coll.find().sort('point_time', -1).limit(1)\n",
    "# latest_date = list(cursor)[0]['point_time']\n",
    "# latest_date"
   ]
  },
  {
   "cell_type": "code",
   "execution_count": 190,
   "id": "9e018ecf",
   "metadata": {},
   "outputs": [
    {
     "data": {
      "text/plain": [
       "{'_id': ObjectId('6142d9ae6e211238d3e1e78b'),\n",
       " 'MOER version': 3.0,\n",
       " 'frequency': 'None',\n",
       " 'point_time': '2018-10-01T00:00:00+00:00',\n",
       " 'value': 964.0}"
      ]
     },
     "execution_count": 190,
     "metadata": {},
     "output_type": "execute_result"
    }
   ],
   "source": [
    "new_coll.find_one()"
   ]
  },
  {
   "cell_type": "code",
   "execution_count": 181,
   "id": "eafe973f",
   "metadata": {},
   "outputs": [
    {
     "name": "stdout",
     "output_type": "stream",
     "text": [
      "2021-09-13T00:19:14+00:00\n",
      "2021-09-17T00:40:00+00:00\n",
      "2021-09-13T00:19:14+00:00\n",
      "7484\n"
     ]
    }
   ],
   "source": [
    "start_time = latest_date\n",
    "thirty_days_after = latest_date\n",
    "time_now = datetime.utcnow().astimezone().replace(tzinfo=dt.timezone.utc, microsecond=0).isoformat()\n",
    "print(time_now)\n",
    "\n",
    "if start_time != time_now:\n",
    "    while thirty_days_after < time_now:\n",
    "        thirty_days_after = (datetime.fromisoformat(latest_date) + timedelta(days=30)).isoformat()\n",
    "        print(thirty_days_after)\n",
    "        if thirty_days_after > time_now:\n",
    "            end_time = time_now\n",
    "        else:\n",
    "            end_time = thirty_days_after\n",
    "            \n",
    "        print(end_time)\n",
    "        # run /data with start/stop times to update db\n",
    "        update_db = data(token, BA, start_time, end_time)\n",
    "        print(len(update_db))\n",
    "        \n",
    "        # point_time timestamp is slightly different format from /historical timestamp\n",
    "        temp_df = pd.DataFrame(update_db)\n",
    "        temp_df['point_time'] = [parser.parse(x).replace(tzinfo=dt.timezone.utc, microsecond=0).isoformat() for x in temp_df['point_time']]\n",
    "        \n",
    "        # insert next 30 (or less) days of data into BA collection\n",
    "        new_coll.insert_many(temp_df.to_dict('records'))\n",
    "        "
   ]
  },
  {
   "cell_type": "code",
   "execution_count": 191,
   "id": "a620ea38",
   "metadata": {},
   "outputs": [
    {
     "data": {
      "text/plain": [
       "390029"
      ]
     },
     "execution_count": 191,
     "metadata": {},
     "output_type": "execute_result"
    }
   ],
   "source": [
    "new_coll.count_documents({})"
   ]
  },
  {
   "cell_type": "code",
   "execution_count": 192,
   "id": "97244b11",
   "metadata": {},
   "outputs": [
    {
     "data": {
      "text/plain": [
       "'2021-09-16T06:05:00+00:00'"
      ]
     },
     "execution_count": 192,
     "metadata": {},
     "output_type": "execute_result"
    }
   ],
   "source": [
    "# find latest date in collection\n",
    "cursor = new_coll.find().sort('point_time', -1).limit(10)\n",
    "latest_date = list(cursor)[0]['point_time']\n",
    "latest_date"
   ]
  },
  {
   "cell_type": "code",
   "execution_count": 199,
   "id": "942c23bc",
   "metadata": {},
   "outputs": [
    {
     "data": {
      "text/plain": [
       "['CAISO_NORTH_forecast',\n",
       " 'CAISO_NORTH_weeklyline',\n",
       " 'CAISO_NORTH_heatmap',\n",
       " 'CAISO_NORTH',\n",
       " 'CAISO_NORTH_dailyline']"
      ]
     },
     "execution_count": 199,
     "metadata": {},
     "output_type": "execute_result"
    }
   ],
   "source": [
    "db.list_collection_names()"
   ]
  },
  {
   "cell_type": "code",
   "execution_count": 217,
   "id": "5076c920",
   "metadata": {},
   "outputs": [
    {
     "data": {
      "text/plain": [
       "181152"
      ]
     },
     "execution_count": 217,
     "metadata": {},
     "output_type": "execute_result"
    }
   ],
   "source": [
    "db['CAISO_NORTH_forecast'].count_documents({})"
   ]
  },
  {
   "cell_type": "code",
   "execution_count": 216,
   "id": "5b94c343",
   "metadata": {},
   "outputs": [
    {
     "data": {
      "text/plain": [
       "390327"
      ]
     },
     "execution_count": 216,
     "metadata": {},
     "output_type": "execute_result"
    }
   ],
   "source": [
    "db['CAISO_NORTH'].count_documents({})"
   ]
  },
  {
   "cell_type": "code",
   "execution_count": 218,
   "id": "57f0496c",
   "metadata": {},
   "outputs": [
    {
     "data": {
      "text/html": [
       "<div>\n",
       "<style scoped>\n",
       "    .dataframe tbody tr th:only-of-type {\n",
       "        vertical-align: middle;\n",
       "    }\n",
       "\n",
       "    .dataframe tbody tr th {\n",
       "        vertical-align: top;\n",
       "    }\n",
       "\n",
       "    .dataframe thead th {\n",
       "        text-align: right;\n",
       "    }\n",
       "</style>\n",
       "<table border=\"1\" class=\"dataframe\">\n",
       "  <thead>\n",
       "    <tr style=\"text-align: right;\">\n",
       "      <th></th>\n",
       "      <th>_id</th>\n",
       "      <th>index</th>\n",
       "      <th>point_time</th>\n",
       "      <th>forecast</th>\n",
       "      <th>moer_today</th>\n",
       "      <th>moer_1week</th>\n",
       "      <th>moer_2week</th>\n",
       "      <th>moer_3week</th>\n",
       "      <th>point_date</th>\n",
       "      <th>time</th>\n",
       "      <th>weekday</th>\n",
       "    </tr>\n",
       "  </thead>\n",
       "  <tbody>\n",
       "    <tr>\n",
       "      <th>0</th>\n",
       "      <td>6144396877427e0f95ae91ea</td>\n",
       "      <td>0</td>\n",
       "      <td>2021-09-07 00:00:00</td>\n",
       "      <td>928.213628</td>\n",
       "      <td>1022.0</td>\n",
       "      <td>883.0</td>\n",
       "      <td>44.0</td>\n",
       "      <td>869.0</td>\n",
       "      <td>2021-09-07</td>\n",
       "      <td>00:00:00</td>\n",
       "      <td>2</td>\n",
       "    </tr>\n",
       "    <tr>\n",
       "      <th>1</th>\n",
       "      <td>6144396877427e0f95ae91eb</td>\n",
       "      <td>1</td>\n",
       "      <td>2021-09-07 00:05:00</td>\n",
       "      <td>944.270083</td>\n",
       "      <td>932.0</td>\n",
       "      <td>869.0</td>\n",
       "      <td>866.0</td>\n",
       "      <td>864.0</td>\n",
       "      <td>2021-09-07</td>\n",
       "      <td>00:05:00</td>\n",
       "      <td>2</td>\n",
       "    </tr>\n",
       "    <tr>\n",
       "      <th>2</th>\n",
       "      <td>6144396877427e0f95ae91ec</td>\n",
       "      <td>2</td>\n",
       "      <td>2021-09-07 00:10:00</td>\n",
       "      <td>934.695229</td>\n",
       "      <td>917.0</td>\n",
       "      <td>869.0</td>\n",
       "      <td>865.0</td>\n",
       "      <td>861.0</td>\n",
       "      <td>2021-09-07</td>\n",
       "      <td>00:10:00</td>\n",
       "      <td>2</td>\n",
       "    </tr>\n",
       "    <tr>\n",
       "      <th>3</th>\n",
       "      <td>6144396877427e0f95ae91ed</td>\n",
       "      <td>3</td>\n",
       "      <td>2021-09-07 00:15:00</td>\n",
       "      <td>944.270083</td>\n",
       "      <td>914.0</td>\n",
       "      <td>869.0</td>\n",
       "      <td>869.0</td>\n",
       "      <td>863.0</td>\n",
       "      <td>2021-09-07</td>\n",
       "      <td>00:15:00</td>\n",
       "      <td>2</td>\n",
       "    </tr>\n",
       "    <tr>\n",
       "      <th>4</th>\n",
       "      <td>6144396877427e0f95ae91ee</td>\n",
       "      <td>4</td>\n",
       "      <td>2021-09-07 00:20:00</td>\n",
       "      <td>944.270083</td>\n",
       "      <td>912.0</td>\n",
       "      <td>870.0</td>\n",
       "      <td>870.0</td>\n",
       "      <td>863.0</td>\n",
       "      <td>2021-09-07</td>\n",
       "      <td>00:20:00</td>\n",
       "      <td>2</td>\n",
       "    </tr>\n",
       "    <tr>\n",
       "      <th>...</th>\n",
       "      <td>...</td>\n",
       "      <td>...</td>\n",
       "      <td>...</td>\n",
       "      <td>...</td>\n",
       "      <td>...</td>\n",
       "      <td>...</td>\n",
       "      <td>...</td>\n",
       "      <td>...</td>\n",
       "      <td>...</td>\n",
       "      <td>...</td>\n",
       "      <td>...</td>\n",
       "    </tr>\n",
       "    <tr>\n",
       "      <th>2011</th>\n",
       "      <td>6144396877427e0f95ae99c5</td>\n",
       "      <td>2011</td>\n",
       "      <td>2021-09-13 23:35:00</td>\n",
       "      <td>989.202248</td>\n",
       "      <td>NaN</td>\n",
       "      <td>1026.0</td>\n",
       "      <td>890.0</td>\n",
       "      <td>453.0</td>\n",
       "      <td>2021-09-13</td>\n",
       "      <td>23:35:00</td>\n",
       "      <td>1</td>\n",
       "    </tr>\n",
       "    <tr>\n",
       "      <th>2012</th>\n",
       "      <td>6144396877427e0f95ae99c6</td>\n",
       "      <td>2012</td>\n",
       "      <td>2021-09-13 23:40:00</td>\n",
       "      <td>989.202248</td>\n",
       "      <td>NaN</td>\n",
       "      <td>1025.0</td>\n",
       "      <td>888.0</td>\n",
       "      <td>43.0</td>\n",
       "      <td>2021-09-13</td>\n",
       "      <td>23:40:00</td>\n",
       "      <td>1</td>\n",
       "    </tr>\n",
       "    <tr>\n",
       "      <th>2013</th>\n",
       "      <td>6144396877427e0f95ae99c7</td>\n",
       "      <td>2013</td>\n",
       "      <td>2021-09-13 23:45:00</td>\n",
       "      <td>990.115426</td>\n",
       "      <td>NaN</td>\n",
       "      <td>1024.0</td>\n",
       "      <td>886.0</td>\n",
       "      <td>43.0</td>\n",
       "      <td>2021-09-13</td>\n",
       "      <td>23:45:00</td>\n",
       "      <td>1</td>\n",
       "    </tr>\n",
       "    <tr>\n",
       "      <th>2014</th>\n",
       "      <td>6144396877427e0f95ae99c8</td>\n",
       "      <td>2014</td>\n",
       "      <td>2021-09-13 23:50:00</td>\n",
       "      <td>990.177095</td>\n",
       "      <td>NaN</td>\n",
       "      <td>1024.0</td>\n",
       "      <td>885.0</td>\n",
       "      <td>43.0</td>\n",
       "      <td>2021-09-13</td>\n",
       "      <td>23:50:00</td>\n",
       "      <td>1</td>\n",
       "    </tr>\n",
       "    <tr>\n",
       "      <th>2015</th>\n",
       "      <td>6144396877427e0f95ae99c9</td>\n",
       "      <td>2015</td>\n",
       "      <td>2021-09-13 23:55:00</td>\n",
       "      <td>990.177095</td>\n",
       "      <td>NaN</td>\n",
       "      <td>1023.0</td>\n",
       "      <td>884.0</td>\n",
       "      <td>44.0</td>\n",
       "      <td>2021-09-13</td>\n",
       "      <td>23:55:00</td>\n",
       "      <td>1</td>\n",
       "    </tr>\n",
       "  </tbody>\n",
       "</table>\n",
       "<p>2016 rows × 11 columns</p>\n",
       "</div>"
      ],
      "text/plain": [
       "                           _id  index          point_time    forecast  \\\n",
       "0     6144396877427e0f95ae91ea      0 2021-09-07 00:00:00  928.213628   \n",
       "1     6144396877427e0f95ae91eb      1 2021-09-07 00:05:00  944.270083   \n",
       "2     6144396877427e0f95ae91ec      2 2021-09-07 00:10:00  934.695229   \n",
       "3     6144396877427e0f95ae91ed      3 2021-09-07 00:15:00  944.270083   \n",
       "4     6144396877427e0f95ae91ee      4 2021-09-07 00:20:00  944.270083   \n",
       "...                        ...    ...                 ...         ...   \n",
       "2011  6144396877427e0f95ae99c5   2011 2021-09-13 23:35:00  989.202248   \n",
       "2012  6144396877427e0f95ae99c6   2012 2021-09-13 23:40:00  989.202248   \n",
       "2013  6144396877427e0f95ae99c7   2013 2021-09-13 23:45:00  990.115426   \n",
       "2014  6144396877427e0f95ae99c8   2014 2021-09-13 23:50:00  990.177095   \n",
       "2015  6144396877427e0f95ae99c9   2015 2021-09-13 23:55:00  990.177095   \n",
       "\n",
       "      moer_today  moer_1week  moer_2week  moer_3week  point_date      time  \\\n",
       "0         1022.0       883.0        44.0       869.0  2021-09-07  00:00:00   \n",
       "1          932.0       869.0       866.0       864.0  2021-09-07  00:05:00   \n",
       "2          917.0       869.0       865.0       861.0  2021-09-07  00:10:00   \n",
       "3          914.0       869.0       869.0       863.0  2021-09-07  00:15:00   \n",
       "4          912.0       870.0       870.0       863.0  2021-09-07  00:20:00   \n",
       "...          ...         ...         ...         ...         ...       ...   \n",
       "2011         NaN      1026.0       890.0       453.0  2021-09-13  23:35:00   \n",
       "2012         NaN      1025.0       888.0        43.0  2021-09-13  23:40:00   \n",
       "2013         NaN      1024.0       886.0        43.0  2021-09-13  23:45:00   \n",
       "2014         NaN      1024.0       885.0        43.0  2021-09-13  23:50:00   \n",
       "2015         NaN      1023.0       884.0        44.0  2021-09-13  23:55:00   \n",
       "\n",
       "      weekday  \n",
       "0           2  \n",
       "1           2  \n",
       "2           2  \n",
       "3           2  \n",
       "4           2  \n",
       "...       ...  \n",
       "2011        1  \n",
       "2012        1  \n",
       "2013        1  \n",
       "2014        1  \n",
       "2015        1  \n",
       "\n",
       "[2016 rows x 11 columns]"
      ]
     },
     "execution_count": 218,
     "metadata": {},
     "output_type": "execute_result"
    }
   ],
   "source": [
    "pd.DataFrame(list(db['CAISO_NORTH_weeklyline'].find({})))"
   ]
  },
  {
   "cell_type": "code",
   "execution_count": null,
   "id": "508977bd",
   "metadata": {},
   "outputs": [],
   "source": []
  },
  {
   "cell_type": "code",
   "execution_count": null,
   "id": "409a1a09",
   "metadata": {},
   "outputs": [],
   "source": []
  }
 ],
 "metadata": {
  "kernelspec": {
   "display_name": "Python [conda env:metis-deep] *",
   "language": "python",
   "name": "conda-env-metis-deep-py"
  },
  "language_info": {
   "codemirror_mode": {
    "name": "ipython",
    "version": 3
   },
   "file_extension": ".py",
   "mimetype": "text/x-python",
   "name": "python",
   "nbconvert_exporter": "python",
   "pygments_lexer": "ipython3",
   "version": "3.8.11"
  }
 },
 "nbformat": 4,
 "nbformat_minor": 5
}
